{
 "cells": [
  {
   "cell_type": "code",
   "execution_count": null,
   "metadata": {},
   "outputs": [],
   "source": [
    "import pandas as pd\n",
    "import re\n",
    "from nltk.tokenize import word_tokenize\n",
    "from string import punctuation \n",
    "from nltk.corpus import stopwords \n",
    "import string\n",
    "import numpy as np \n",
    "import matplotlib.pyplot as plt \n",
    "import seaborn as sns\n",
    "import nltk\n",
    "import warnings \n",
    "#pd.set_option('display.max_colwidth', -1)"
   ]
  },
  {
   "cell_type": "code",
   "execution_count": null,
   "metadata": {},
   "outputs": [],
   "source": [
    "data = pd.read_csv(\"twcs.csv\", index_col=False)"
   ]
  },
  {
   "cell_type": "code",
   "execution_count": null,
   "metadata": {},
   "outputs": [],
   "source": [
    "data =data[:1000] "
   ]
  },
  {
   "cell_type": "code",
   "execution_count": null,
   "metadata": {},
   "outputs": [],
   "source": [
    "data.shape"
   ]
  },
  {
   "cell_type": "code",
   "execution_count": null,
   "metadata": {},
   "outputs": [],
   "source": [
    "def remove_pattern(input_txt, pattern):\n",
    "    r = re.findall(pattern, input_txt)\n",
    "    for i in r:\n",
    "        input_txt = re.sub(i, '', input_txt)\n",
    "        \n",
    "    return input_txt    "
   ]
  },
  {
   "cell_type": "code",
   "execution_count": null,
   "metadata": {},
   "outputs": [],
   "source": [
    "def _processdata(data):\n",
    "    data['text'] = data['text'].str.replace(\"[^a-zA-Z#]\", \" \")\n",
    "    data['text'] = data['text'].str.replace(r'http[s]?://(?:[a-z]|[0-9]|[$-_@.&amp;+]|[!*\\(\\),]|(?:%[0-9a-f][0-9a-f]))+','')\n",
    "    data['text'] = data['text'].str.replace(r'@[\\w_]+','')\n",
    "    data['text'] = data['text'].str.replace('((www\\.[^\\s]+)|(https?://[^\\s]+))', '') \n",
    "    data['text'] = data['text'].str.replace(r'[:=;] [oO\\-]?[D\\)\\]\\(\\]/\\\\OpP]', '')\n",
    "    data['text'] = data['text'].str.replace('@[^\\s]+', '') \n",
    "    data['text'] = data['text'].str.replace(r'#([^\\s]+)', '') \n",
    "    data['text'] = data['text'].str.replace('当サイトからそのようなメールをお送りすることはございません。当サイトの名をか', '')\n",
    "    data['text'] = data['text'].str.replace('いきなり来たんだけど\\\\nなんですかこれ！！？\\\\n\\\\n', '') \n",
    "    data['text'] = data['text'].str.replace('いきなり来たんだけど\\\\nなんですかこれ！！？\\\\n\\\\n','')\n",
    "    \n",
    "    return data"
   ]
  },
  {
   "cell_type": "code",
   "execution_count": null,
   "metadata": {},
   "outputs": [],
   "source": [
    "dd = _processdata(data)"
   ]
  },
  {
   "cell_type": "code",
   "execution_count": null,
   "metadata": {},
   "outputs": [],
   "source": [
    "dd['text'] = dd['text'].astype(\"str\")"
   ]
  },
  {
   "cell_type": "code",
   "execution_count": null,
   "metadata": {},
   "outputs": [],
   "source": [
    "dd1=dd"
   ]
  },
  {
   "cell_type": "code",
   "execution_count": null,
   "metadata": {},
   "outputs": [],
   "source": [
    "tokenized_tweet = dd1['text'].apply(lambda x: x.split())\n",
    "print(tokenized_tweet.head())"
   ]
  },
  {
   "cell_type": "markdown",
   "metadata": {},
   "source": [
    "# NEW DATA"
   ]
  },
  {
   "cell_type": "code",
   "execution_count": null,
   "metadata": {},
   "outputs": [],
   "source": [
    "import json"
   ]
  },
  {
   "cell_type": "code",
   "execution_count": null,
   "metadata": {},
   "outputs": [],
   "source": [
    "df = pd.read_json('frames.json', orient='records')"
   ]
  },
  {
   "cell_type": "code",
   "execution_count": null,
   "metadata": {},
   "outputs": [],
   "source": [
    "df.head()"
   ]
  },
  {
   "cell_type": "code",
   "execution_count": null,
   "metadata": {},
   "outputs": [],
   "source": [
    "from pandas.io.json import json_normalize \n",
    "works_data = json_normalize(data = df['turns'][0],   \n",
    "                            meta =['text', 'timestamp', 'author']) \n",
    "works_data"
   ]
  },
  {
   "cell_type": "code",
   "execution_count": null,
   "metadata": {},
   "outputs": [],
   "source": [
    "len(df['turns'][0])"
   ]
  },
  {
   "cell_type": "code",
   "execution_count": null,
   "metadata": {},
   "outputs": [],
   "source": [
    "data = {}\n",
    "data['converser']=[]\n",
    "data['text']=[]\n",
    "data['timestamp'] = []\n",
    "data['conversation_num'] =[]\n",
    "data['chat_id'] =[]\n",
    "data['user_id'] = []\n",
    "data['wizard_id'] =[]\n",
    "for i in range (0,len(df)):\n",
    "    for j in range(0,len(df['turns'][i])):\n",
    "        data['conversation_num'].append(j)\n",
    "        data['timestamp'].append(df['turns'][i][j][\"timestamp\"])\n",
    "        data['converser'].append(df['turns'][i][j][\"author\"])\n",
    "        data['text'].append(df['turns'][i][j][\"text\"])\n",
    "        data['chat_id'].append(df['id'][i])\n",
    "        data['user_id'].append(df['user_id'][i])\n",
    "        data['wizard_id'].append(df['wizard_id'][i])\n",
    "\n",
    "df1 = pd.DataFrame(data)\n",
    "\n",
    "# df1.to_csv(\"data_updated.csv\")    \n",
    "# with open('data_updated.txt', 'w') as outfile:\n",
    "#     json.dump(data, outfile) "
   ]
  },
  {
   "cell_type": "code",
   "execution_count": null,
   "metadata": {},
   "outputs": [],
   "source": [
    "df1"
   ]
  },
  {
   "cell_type": "code",
   "execution_count": null,
   "metadata": {},
   "outputs": [],
   "source": [
    "df1 = pd.read_csv(\"data_updated.csv\")"
   ]
  },
  {
   "cell_type": "code",
   "execution_count": null,
   "metadata": {},
   "outputs": [],
   "source": [
    "df1.head()"
   ]
  },
  {
   "cell_type": "code",
   "execution_count": null,
   "metadata": {},
   "outputs": [],
   "source": []
  },
  {
   "cell_type": "code",
   "execution_count": null,
   "metadata": {},
   "outputs": [],
   "source": [
    "df1['timestamp']=df1.timestamp.astype(str).str[0:10]\n",
    "df1['timestamp'] = pd.to_datetime(df1['timestamp'], unit='s')\n",
    "df1.head()"
   ]
  },
  {
   "cell_type": "code",
   "execution_count": null,
   "metadata": {},
   "outputs": [],
   "source": [
    "df1['timestamp'].dt.strftime('%A')"
   ]
  },
  {
   "cell_type": "code",
   "execution_count": null,
   "metadata": {},
   "outputs": [],
   "source": []
  }
 ],
 "metadata": {
  "kernelspec": {
   "display_name": "Python 3",
   "language": "python",
   "name": "python3"
  },
  "language_info": {
   "codemirror_mode": {
    "name": "ipython",
    "version": 3
   },
   "file_extension": ".py",
   "mimetype": "text/x-python",
   "name": "python",
   "nbconvert_exporter": "python",
   "pygments_lexer": "ipython3",
   "version": "3.7.3"
  }
 },
 "nbformat": 4,
 "nbformat_minor": 2
}
